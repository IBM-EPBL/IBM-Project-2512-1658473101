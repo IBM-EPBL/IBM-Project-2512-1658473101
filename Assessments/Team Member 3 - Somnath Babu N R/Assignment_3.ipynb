{
  "nbformat": 4,
  "nbformat_minor": 0,
  "metadata": {
    "colab": {
      "provenance": [],
      "collapsed_sections": []
    },
    "kernelspec": {
      "name": "python3",
      "display_name": "Python 3"
    },
    "language_info": {
      "name": "python"
    }
  },
  "cells": [
    {
      "cell_type": "code",
      "source": [
        "from tensorflow.keras.preprocessing.image import ImageDataGenerator"
      ],
      "metadata": {
        "id": "_4vYD7ElI3gG"
      },
      "execution_count": 1,
      "outputs": []
    },
    {
      "cell_type": "code",
      "source": [
        "train_data_gen=ImageDataGenerator(rescale=1./255,horizontal_flip=True,vertical_flip=True,zoom_range=0.2,validation_split=0.3)"
      ],
      "metadata": {
        "id": "Fznqt958JReo"
      },
      "execution_count": 2,
      "outputs": []
    },
    {
      "cell_type": "code",
      "source": [
        "x_train=train_data_gen.flow_from_directory(r\"/content/drive/MyDrive/Assignment 3/flowers\",target_size=(64,64),class_mode=\"categorical\",batch_size=24,subset=\"training\",shuffle=True)"
      ],
      "metadata": {
        "colab": {
          "base_uri": "https://localhost:8080/"
        },
        "id": "3Zec5bcMJcKs",
        "outputId": "fabcd932-eac3-4f17-e11e-62a859312ff9"
      },
      "execution_count": 3,
      "outputs": [
        {
          "output_type": "stream",
          "name": "stdout",
          "text": [
            "Found 3024 images belonging to 5 classes.\n"
          ]
        }
      ]
    },
    {
      "cell_type": "code",
      "source": [
        "x_test=train_data_gen.flow_from_directory(r\"/content/drive/MyDrive/Assignment 3/flowers\",target_size=(64,64),class_mode=\"categorical\",batch_size=24,subset=\"validation\")"
      ],
      "metadata": {
        "colab": {
          "base_uri": "https://localhost:8080/"
        },
        "id": "7-kCMu79Js6V",
        "outputId": "bf63984c-1b3d-4b7f-b87b-12eadb8e1bf1"
      },
      "execution_count": 4,
      "outputs": [
        {
          "output_type": "stream",
          "name": "stdout",
          "text": [
            "Found 1293 images belonging to 5 classes.\n"
          ]
        }
      ]
    },
    {
      "cell_type": "code",
      "source": [
        "from tensorflow.keras.models import Sequential\n",
        "from tensorflow.keras.layers import Convolution2D,MaxPooling2D,Flatten,Dense,Dropout"
      ],
      "metadata": {
        "id": "epFiqunjKRMw"
      },
      "execution_count": 5,
      "outputs": []
    },
    {
      "cell_type": "code",
      "source": [
        "model=Sequential()\n",
        "model.add(Convolution2D(32,(3,3),activation=\"relu\",input_shape=(64,64,3)))\n",
        "model.add(MaxPooling2D(pool_size=(2,3)))\n",
        "model.add(Flatten())\n",
        "model.add(Dense(300,activation='relu'))\n",
        "model.add(Dense(300,activation='relu'))\n",
        "model.add(Dense(300,activation='relu'))\n",
        "model.add(Dense(5,activation=\"softmax\"))\n",
        "model.compile(loss=\"categorical_crossentropy\",metrics=[\"accuracy\"],optimizer=\"adam\")"
      ],
      "metadata": {
        "id": "pf_9gX4KKkb8"
      },
      "execution_count": 8,
      "outputs": []
    },
    {
      "cell_type": "code",
      "source": [
        "model.fit(x_train,epochs=10,validation_data=x_test)"
      ],
      "metadata": {
        "colab": {
          "base_uri": "https://localhost:8080/"
        },
        "id": "OX7YgMYgKmjo",
        "outputId": "c9696ca7-3702-4f92-ae2d-a9d2fefceed6"
      },
      "execution_count": 9,
      "outputs": [
        {
          "output_type": "stream",
          "name": "stdout",
          "text": [
            "Epoch 1/10\n",
            "126/126 [==============================] - 1768s 14s/step - loss: 1.3083 - accuracy: 0.4375 - val_loss: 1.1553 - val_accuracy: 0.5290\n",
            "Epoch 2/10\n",
            "126/126 [==============================] - 38s 302ms/step - loss: 1.0786 - accuracy: 0.5592 - val_loss: 1.1205 - val_accuracy: 0.5615\n",
            "Epoch 3/10\n",
            "126/126 [==============================] - 38s 302ms/step - loss: 1.0075 - accuracy: 0.6019 - val_loss: 1.0443 - val_accuracy: 0.5878\n",
            "Epoch 4/10\n",
            "126/126 [==============================] - 38s 300ms/step - loss: 0.9430 - accuracy: 0.6349 - val_loss: 1.0290 - val_accuracy: 0.5754\n",
            "Epoch 5/10\n",
            "126/126 [==============================] - 38s 305ms/step - loss: 0.8815 - accuracy: 0.6571 - val_loss: 0.9974 - val_accuracy: 0.6226\n",
            "Epoch 6/10\n",
            "126/126 [==============================] - 38s 303ms/step - loss: 0.8674 - accuracy: 0.6577 - val_loss: 1.0175 - val_accuracy: 0.6063\n",
            "Epoch 7/10\n",
            "126/126 [==============================] - 38s 302ms/step - loss: 0.8338 - accuracy: 0.6763 - val_loss: 1.0279 - val_accuracy: 0.6025\n",
            "Epoch 8/10\n",
            "126/126 [==============================] - 38s 299ms/step - loss: 0.7815 - accuracy: 0.7021 - val_loss: 0.9925 - val_accuracy: 0.6094\n",
            "Epoch 9/10\n",
            "126/126 [==============================] - 38s 300ms/step - loss: 0.7750 - accuracy: 0.7021 - val_loss: 0.9854 - val_accuracy: 0.6071\n",
            "Epoch 10/10\n",
            "126/126 [==============================] - 39s 307ms/step - loss: 0.7169 - accuracy: 0.7219 - val_loss: 1.0237 - val_accuracy: 0.6179\n"
          ]
        },
        {
          "output_type": "execute_result",
          "data": {
            "text/plain": [
              "<keras.callbacks.History at 0x7fc771e50050>"
            ]
          },
          "metadata": {},
          "execution_count": 9
        }
      ]
    },
    {
      "cell_type": "code",
      "source": [
        "model.save(\"flower.h5\")"
      ],
      "metadata": {
        "id": "oTLluJIoNPCX"
      },
      "execution_count": 10,
      "outputs": []
    },
    {
      "cell_type": "markdown",
      "source": [
        "Testing"
      ],
      "metadata": {
        "id": "MoabO8rFNKI6"
      }
    },
    {
      "cell_type": "code",
      "source": [
        "from tensorflow.keras.models import load_model\n",
        "from tensorflow.keras.preprocessing import image\n",
        "import numpy as np"
      ],
      "metadata": {
        "id": "HsPMEJFcK3rp"
      },
      "execution_count": 11,
      "outputs": []
    },
    {
      "cell_type": "code",
      "source": [
        "model=load_model(\"/content/drive/MyDrive/Assignment 3/flower.h5\")"
      ],
      "metadata": {
        "id": "WX-kP03DNM7g"
      },
      "execution_count": 12,
      "outputs": []
    },
    {
      "cell_type": "code",
      "source": [
        "img=image.load_img(\"/content/drive/MyDrive/Assignment 3/flowers/daisy/100080576_f52e8ee070_n.jpg\",target_size=(64,64))"
      ],
      "metadata": {
        "id": "TvF7o3o5Ng72"
      },
      "execution_count": 15,
      "outputs": []
    },
    {
      "cell_type": "code",
      "source": [
        "img"
      ],
      "metadata": {
        "colab": {
          "base_uri": "https://localhost:8080/",
          "height": 81
        },
        "id": "IwB5L9NierAu",
        "outputId": "38a390e1-ea7d-4ad0-b6a6-287404680ef2"
      },
      "execution_count": 16,
      "outputs": [
        {
          "output_type": "execute_result",
          "data": {
            "text/plain": [
              "<PIL.Image.Image image mode=RGB size=64x64 at 0x7FC76A73ECD0>"
            ],
            "image/png": "[encoded data removed]"
          },
          "metadata": {},
          "execution_count": 16
        }
      ]
    },
    {
      "cell_type": "code",
      "source": [
        "x=image.img_to_array(img)\n",
        "x.ndim"
      ],
      "metadata": {
        "colab": {
          "base_uri": "https://localhost:8080/"
        },
        "id": "2YFBL1-YfD8O",
        "outputId": "be5f8b6b-ede8-48cc-e0dc-61fd25cdc471"
      },
      "execution_count": 17,
      "outputs": [
        {
          "output_type": "execute_result",
          "data": {
            "text/plain": [
              "3"
            ]
          },
          "metadata": {},
          "execution_count": 17
        }
      ]
    },
    {
      "cell_type": "code",
      "source": [
        "x=np.expand_dims(x,axis=0)"
      ],
      "metadata": {
        "id": "0S-TOcWEfL_K"
      },
      "execution_count": 18,
      "outputs": []
    },
    {
      "cell_type": "code",
      "source": [
        "pred=model.predict(x)"
      ],
      "metadata": {
        "id": "0w8haCc2fQwn"
      },
      "execution_count": 19,
      "outputs": []
    },
    {
      "cell_type": "code",
      "source": [
        "pred"
      ],
      "metadata": {
        "colab": {
          "base_uri": "https://localhost:8080/"
        },
        "id": "XlHGRTxofVds",
        "outputId": "65298af6-6e54-4442-c1e8-1cc5cfea3afb"
      },
      "execution_count": 20,
      "outputs": [
        {
          "output_type": "execute_result",
          "data": {
            "text/plain": [
              "array([[1., 0., 0., 0.]], dtype=float32)"
            ]
          },
          "metadata": {},
          "execution_count": 20
        }
      ]
    },
    {
      "cell_type": "code",
      "source": [
        "labels=['daisy','dandelion','rose','sunflower','tulip']"
      ],
      "metadata": {
        "id": "JWk7b2-KfXGW"
      },
      "execution_count": 21,
      "outputs": []
    },
    {
      "cell_type": "code",
      "source": [
        "labels[np.argmax(pred)]"
      ],
      "metadata": {
        "colab": {
          "base_uri": "https://localhost:8080/",
          "height": 36
        },
        "id": "X6lbUWrMfjU2",
        "outputId": "04c762b2-3890-4146-d27f-04e39fc776ec"
      },
      "execution_count": 22,
      "outputs": [
        {
          "output_type": "execute_result",
          "data": {
            "text/plain": [
              "'daisy'"
            ],
            "application/vnd.google.colaboratory.intrinsic+json": {
              "type": "string"
            }
          },
          "metadata": {},
          "execution_count": 22
        }
      ]
    }
  ]
}