{
 "cells": [
  {
   "cell_type": "code",
   "execution_count": 3,
   "metadata": {},
   "outputs": [],
   "source": [
    "\n",
    "import os, types\n",
    "import pandas as pd\n",
    "from botocore.client import Config\n",
    "import ibm_boto3\n",
    "\n",
    "def __iter__(self): return 0\n",
    "\n",
    "# @hidden_cell\n",
    "# The following code accesses a file in your IBM Cloud Object Storage. It includes your credentials.\n",
    "# You might want to remove those credentials before you share the notebook.\n",
    "cos_client = ibm_boto3.client(service_name='s3',\n",
    "    ibm_api_key_id='YSwhyVuDKf8kHO0pQVPIdTs-3K5TQRYn3cY35rpl9s-F',\n",
    "    ibm_auth_endpoint=\"https://iam.cloud.ibm.com/oidc/token\",\n",
    "    config=Config(signature_version='oauth'),\n",
    "    endpoint_url='https://s3.private.eu.cloud-object-storage.appdomain.cloud')\n",
    "\n",
    "bucket = 'nalaiyathiran-donotdelete-pr-isnmlnmxzneupt'\n",
    "object_key = 'dataset.zip'\n",
    "\n",
    "streaming_body_1 = cos_client.get_object(Bucket=bucket, Key=object_key)['Body']\n",
    "\n",
    "# Your data file was loaded into a botocore.response.StreamingBody object.\n",
    "# Please read the documentation of ibm_boto3 and pandas to learn more about the possibilities to load the data.\n",
    "# ibm_boto3 documentation: https://ibm.github.io/ibm-cos-sdk-python/\n",
    "# pandas documentation: http://pandas.pydata.org/\n"
   ]
  },
  {
   "cell_type": "code",
   "execution_count": 4,
   "metadata": {},
   "outputs": [],
   "source": [
    "from io import BytesIO\n",
    "import zipfile\n",
    "\n",
    "zip_file = zipfile.ZipFile(BytesIO(streaming_body_1.read()), 'r')\n",
    "zip_file.extractall(\".\")\n",
    "zip_file.close()"
   ]
  },
  {
   "cell_type": "code",
   "execution_count": 8,
   "metadata": {},
   "outputs": [],
   "source": [
    "from keras.preprocessing.image import ImageDataGenerator"
   ]
  },
  {
   "cell_type": "code",
   "execution_count": 10,
   "metadata": {},
   "outputs": [
    {
     "name": "stdout",
     "output_type": "stream",
     "text": [
      "Found 15341 images belonging to 6 classes.\n",
      "Found 6825 images belonging to 6 classes.\n"
     ]
    }
   ],
   "source": [
    "train_data_gen = ImageDataGenerator(rescale=1./255, shear_range=0.2, zoom_range=0.2, horizontal_flip=True)\n",
    "test_data_gen = ImageDataGenerator(rescale=1./255)\n",
    "train_data = train_data_gen.flow_from_directory(directory=\"data/train\", target_size=(64, 64), color_mode='grayscale', class_mode='categorical', batch_size=32)\n",
    "test_data = test_data_gen.flow_from_directory(directory=\"data/test\", target_size=(64, 64), color_mode='grayscale', class_mode='categorical', batch_size=32)"
   ]
  },
  {
   "cell_type": "code",
   "execution_count": 13,
   "metadata": {},
   "outputs": [],
   "source": [
    "import numpy as np\n",
    "from tensorflow.keras.models import Sequential\n",
    "from tensorflow.keras.layers import Dense, Flatten, Conv2D, MaxPool2D"
   ]
  },
  {
   "cell_type": "code",
   "execution_count": 19,
   "metadata": {},
   "outputs": [],
   "source": [
    "model = Sequential()\n",
    "model.add(Conv2D(32, (3, 3), input_shape=(64, 64, 1), activation=\"relu\"))\n",
    "model.add(MaxPool2D(pool_size=(2, 2)))\n",
    "model.add(Conv2D(32, (3, 3), activation=\"relu\"))\n",
    "model.add(MaxPool2D(pool_size=(2, 2)))\n",
    "model.add(Flatten())\n",
    "model.add(Dense(32))\n",
    "model.add(Dense(6, activation=\"softmax\"))"
   ]
  },
  {
   "cell_type": "code",
   "execution_count": 20,
   "metadata": {},
   "outputs": [
    {
     "name": "stdout",
     "output_type": "stream",
     "text": [
      "Model: \"sequential_2\"\n",
      "_________________________________________________________________\n",
      " Layer (type)                Output Shape              Param #   \n",
      "=================================================================\n",
      " conv2d_3 (Conv2D)           (None, 62, 62, 32)        320       \n",
      "                                                                 \n",
      " max_pooling2d_2 (MaxPooling  (None, 31, 31, 32)       0         \n",
      " 2D)                                                             \n",
      "                                                                 \n",
      " conv2d_4 (Conv2D)           (None, 29, 29, 32)        9248      \n",
      "                                                                 \n",
      " max_pooling2d_3 (MaxPooling  (None, 14, 14, 32)       0         \n",
      " 2D)                                                             \n",
      "                                                                 \n",
      " flatten_1 (Flatten)         (None, 6272)              0         \n",
      "                                                                 \n",
      " dense_2 (Dense)             (None, 32)                200736    \n",
      "                                                                 \n",
      " dense_3 (Dense)             (None, 6)                 198       \n",
      "                                                                 \n",
      "=================================================================\n",
      "Total params: 210,502\n",
      "Trainable params: 210,502\n",
      "Non-trainable params: 0\n",
      "_________________________________________________________________\n"
     ]
    }
   ],
   "source": [
    "model.summary()"
   ]
  },
  {
   "cell_type": "code",
   "execution_count": 21,
   "metadata": {},
   "outputs": [],
   "source": [
    "model.compile(optimizer=\"adam\", loss=\"categorical_crossentropy\", metrics=[\"accuracy\"])"
   ]
  },
  {
   "cell_type": "code",
   "execution_count": 22,
   "metadata": {},
   "outputs": [
    {
     "name": "stdout",
     "output_type": "stream",
     "text": [
      "Epoch 1/10\n",
      "480/480 [==============================] - 35s 73ms/step - loss: 0.7992 - accuracy: 0.7329 - val_loss: 0.5883 - val_accuracy: 0.8299\n",
      "Epoch 2/10\n",
      "480/480 [==============================] - 34s 71ms/step - loss: 0.3199 - accuracy: 0.9046 - val_loss: 0.4432 - val_accuracy: 0.8633\n",
      "Epoch 3/10\n",
      "480/480 [==============================] - 32s 67ms/step - loss: 0.2583 - accuracy: 0.9247 - val_loss: 0.5016 - val_accuracy: 0.8552\n",
      "Epoch 4/10\n",
      "480/480 [==============================] - 35s 72ms/step - loss: 0.2231 - accuracy: 0.9350 - val_loss: 0.3988 - val_accuracy: 0.8828\n",
      "Epoch 5/10\n",
      "480/480 [==============================] - 33s 69ms/step - loss: 0.1886 - accuracy: 0.9439 - val_loss: 0.3399 - val_accuracy: 0.8968\n",
      "Epoch 6/10\n",
      "480/480 [==============================] - 34s 70ms/step - loss: 0.1720 - accuracy: 0.9494 - val_loss: 0.2473 - val_accuracy: 0.9253\n",
      "Epoch 7/10\n",
      "480/480 [==============================] - 34s 70ms/step - loss: 0.1545 - accuracy: 0.9530 - val_loss: 0.2707 - val_accuracy: 0.9187\n",
      "Epoch 8/10\n",
      "480/480 [==============================] - 33s 68ms/step - loss: 0.1362 - accuracy: 0.9580 - val_loss: 0.3744 - val_accuracy: 0.8859\n",
      "Epoch 9/10\n",
      "480/480 [==============================] - 34s 71ms/step - loss: 0.1344 - accuracy: 0.9585 - val_loss: 0.3191 - val_accuracy: 0.9027\n",
      "Epoch 10/10\n",
      "480/480 [==============================] - 33s 69ms/step - loss: 0.1201 - accuracy: 0.9633 - val_loss: 0.3093 - val_accuracy: 0.9068\n"
     ]
    },
    {
     "data": {
      "text/plain": [
       "<keras.callbacks.History at 0x7fbeeb1828b0>"
      ]
     },
     "execution_count": 22,
     "metadata": {},
     "output_type": "execute_result"
    }
   ],
   "source": [
    "model.fit(train_data, epochs=10, validation_data=test_data)"
   ]
  },
  {
   "cell_type": "code",
   "execution_count": 36,
   "metadata": {},
   "outputs": [],
   "source": [
    "from tensorflow.keras.preprocessing import image\n",
    "image_to_predict = np.expand_dims(image.img_to_array(\n",
    "            image.load_img('data/test/Left Bundle Branch Block/fig_5897.png', target_size=(64, 64), color_mode=\"grayscale\")), axis=0)"
   ]
  },
  {
   "cell_type": "code",
   "execution_count": 40,
   "metadata": {},
   "outputs": [],
   "source": [
    "CVDs = [\n",
    "            'left_bundle_branch_block',\n",
    "            'normal',\n",
    "            'premature_atrial_contraction',\n",
    "            'premature_ventricular_contractions',\n",
    "            'right_bundle_branch_block',\n",
    "            'ventricular_fibrillation'\n",
    "        ]"
   ]
  },
  {
   "cell_type": "code",
   "execution_count": 41,
   "metadata": {},
   "outputs": [
    {
     "data": {
      "text/plain": [
       "'left_bundle_branch_block'"
      ]
     },
     "execution_count": 41,
     "metadata": {},
     "output_type": "execute_result"
    }
   ],
   "source": [
    "prediction = model.predict(image_to_predict)\n",
    "CVDs[list(prediction[0]).index(1)]"
   ]
  },
  {
   "cell_type": "code",
   "execution_count": 42,
   "metadata": {},
   "outputs": [],
   "source": [
    "model.save('model_latest.h5')"
   ]
  }
 ],
 "metadata": {
  "kernelspec": {
   "display_name": "Python 3.9",
   "language": "python",
   "name": "python3"
  },
  "language_info": {
   "codemirror_mode": {
    "name": "ipython",
    "version": 3
   },
   "file_extension": ".py",
   "mimetype": "text/x-python",
   "name": "python",
   "nbconvert_exporter": "python",
   "pygments_lexer": "ipython3",
   "version": "3.9.13"
  }
 },
 "nbformat": 4,
 "nbformat_minor": 1
}
